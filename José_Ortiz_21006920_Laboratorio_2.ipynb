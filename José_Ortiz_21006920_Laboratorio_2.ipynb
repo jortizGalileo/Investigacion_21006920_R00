{
  "nbformat": 4,
  "nbformat_minor": 0,
  "metadata": {
    "colab": {
      "name": "José Ortiz_21006920 -Laboratorio_2.ipynb",
      "provenance": [],
      "collapsed_sections": [],
      "authorship_tag": "ABX9TyOQoiyL6CSFT2UmLOJlGYTV",
      "include_colab_link": true
    },
    "kernelspec": {
      "name": "python3",
      "display_name": "Python 3"
    },
    "language_info": {
      "name": "python"
    }
  },
  "cells": [
    {
      "cell_type": "markdown",
      "metadata": {
        "id": "view-in-github",
        "colab_type": "text"
      },
      "source": [
        "<a href=\"https://colab.research.google.com/github/jortizGalileo/Investigacion_21006920_R00/blob/main/Jos%C3%A9_Ortiz_21006920_Laboratorio_2.ipynb\" target=\"_parent\"><img src=\"https://colab.research.google.com/assets/colab-badge.svg\" alt=\"Open In Colab\"/></a>"
      ]
    },
    {
      "cell_type": "markdown",
      "source": [
        "- Universidad Galileo\n",
        "- Maestría en Inteligencia de negocios y Analítica\n",
        "- José Ricardo Ortiz Lara\n",
        "- Carné No.21006920\n",
        "- Ciencia de datos en Phyton, Sección L"
      ],
      "metadata": {
        "id": "M1Hob4LBTg-9"
      }
    },
    {
      "cell_type": "markdown",
      "source": [
        "1. Haga un programa en Python que reciba de parámetro un número de segundos y que despliegue en pantalla, las horas, minutos y segundos que representan.\n",
        "Para completar su programa escriba otra regla que lea los segundos del teclado y mande a llamar la regla anterior."
      ],
      "metadata": {
        "id": "v1Tr2kV5eHOR"
      }
    },
    {
      "cell_type": "code",
      "source": [
        "segundos = int(input(\"Ingrese el número de segundos: \"))\n",
        "salida = (calculo_hora(segundos))\n",
        "salida"
      ],
      "metadata": {
        "colab": {
          "base_uri": "https://localhost:8080/",
          "height": 54
        },
        "id": "b5O_lL1YYhm5",
        "outputId": "f647334b-81ec-4597-86d4-bf24a7edc276"
      },
      "execution_count": 3,
      "outputs": [
        {
          "name": "stdout",
          "output_type": "stream",
          "text": [
            "Ingrese el número de segundos: 3000\n"
          ]
        },
        {
          "output_type": "execute_result",
          "data": {
            "text/plain": [
              "'0:50:0'"
            ],
            "application/vnd.google.colaboratory.intrinsic+json": {
              "type": "string"
            }
          },
          "metadata": {},
          "execution_count": 3
        }
      ]
    },
    {
      "cell_type": "code",
      "execution_count": 2,
      "metadata": {
        "id": "0uAvDoh_dP6W"
      },
      "outputs": [],
      "source": [
        "def calculo_hora(segundos):\n",
        "    segundos = int(segundos)\n",
        "    hora = segundos // 3600\n",
        "    dif_hora = segundos % 3600\n",
        "    minuto = dif_hora // 60\n",
        "    dif_min = dif_hora % 60\n",
        "    return str(hora) + \":\" + str(minuto) + \":\" + str(dif_min)"
      ]
    },
    {
      "cell_type": "markdown",
      "source": [
        "2. Haga un programa en Python que permita el ingreso de las calificaciones de una evaluación del curso de Ciencia de Datos en Python, el programa debe desplegar un mensaje en función de la nota ingresada. Además de eso si la calificación es reprobada ósea menor a 71, se debe calcular la diferencia entre la nota de aprobación y la calificación ingresada."
      ],
      "metadata": {
        "id": "jtUQVIaeeR1U"
      }
    },
    {
      "cell_type": "code",
      "source": [
        "nota = int(input(\"Ingrese la nota de la evaluación: \"))\n",
        "try: \n",
        "  if (nota < 0 and nota > 100):\n",
        "    print(f\"Datos incorrectos\")\n",
        "  elif (nota >= 0 and nota < 50):\n",
        "    diferencia = 71 - nota\n",
        "    print(f\"La nota es Insuficiente y esta {diferencia} puntos por debajo de la aprobación\")\n",
        "  elif ( nota >= 50 and nota <= 60):\n",
        "      diferencia = 71 - nota\n",
        "      print(f\"La nota es regular y esta {diferencia} puntos por debajo de la aprobación\")\n",
        "  elif (nota > 60 and nota <= 70):\n",
        "      diferencia = 71 - nota\n",
        "      print(f\"La nota es bien y esta {diferencia} puntos por debajo de la aprobación\")\n",
        "  elif (nota > 70 and nota <= 90):\n",
        "        print(f\"La nota es Muy buena\")\n",
        "  elif (nota > 90 and nota <= 100):\n",
        "        print(f\"La nota es Sobresaliente\")\n",
        "except ValueError:\n",
        "   print(\"Problemas con la entrada u operación\")"
      ],
      "metadata": {
        "colab": {
          "base_uri": "https://localhost:8080/"
        },
        "id": "amOgfVPJfMPe",
        "outputId": "f8fd95ec-ff64-48ca-a48e-cfca6b5acfae"
      },
      "execution_count": null,
      "outputs": [
        {
          "output_type": "stream",
          "name": "stdout",
          "text": [
            "Ingrese la nota de la evaluación: 85\n",
            "La nota es Muy buena\n"
          ]
        }
      ]
    },
    {
      "cell_type": "markdown",
      "source": [
        "3. Haga un programa en Python que dados dos números ingresados por el usuario, el primero mayor que el segundo, calcular y mostrar la suma de todos los números comprendidos entre ambos.\n"
      ],
      "metadata": {
        "id": "Bcy2nT4whIL0"
      }
    },
    {
      "cell_type": "code",
      "source": [
        "n = int(input(\"Ingrese un primer número entre 1 y 100: \"))\n",
        "m = int(input(\"Ingrese un segundo número entre 1 y 100: \"))\n",
        "suma = 0\n",
        "try: \n",
        "  if n < m:\n",
        "      print(f\"n debe ser mayor que m\")\n",
        "  else:\n",
        "      for x in range(n,m-1,-1): \n",
        "        suma = suma + x\n",
        "      print(f\"La sumatoria de los números ingresados es {suma}\")\n",
        "except ValueError:\n",
        "   print(\"Problemas con la entrada u operación\")"
      ],
      "metadata": {
        "id": "pTQ-0Hy8Vzy8"
      },
      "execution_count": null,
      "outputs": []
    },
    {
      "cell_type": "markdown",
      "source": [
        "4. Haga un programa en Python que lea un número mayor que 0 y despliegue todos sus factores."
      ],
      "metadata": {
        "id": "AYe0u6T1guOV"
      }
    },
    {
      "cell_type": "code",
      "source": [
        "n = int(input(\"Ingrese un número: \"))\n",
        "x = 1\n",
        "while x <= n:\n",
        "  if n % x == 0:\n",
        "    print(f\"Su factor es: {x} \")\n",
        "  x = x + 1"
      ],
      "metadata": {
        "colab": {
          "base_uri": "https://localhost:8080/"
        },
        "id": "xGLLu5j92wyk",
        "outputId": "c94a73d6-6641-4f87-9aca-167fd11c643d"
      },
      "execution_count": 12,
      "outputs": [
        {
          "output_type": "stream",
          "name": "stdout",
          "text": [
            "Ingrese un número: 12\n",
            "Su factor es: 1 \n",
            "Su factor es: 2 \n",
            "Su factor es: 3 \n",
            "Su factor es: 4 \n",
            "Su factor es: 6 \n",
            "Su factor es: 12 \n"
          ]
        }
      ]
    },
    {
      "cell_type": "markdown",
      "source": [
        "5. Haga un programa en Python que la fecha de nacimiento de una persona (puede ingresar por separado cada valor, es decir pedir primero día, luego mes y luego año), despliegue la edad de la persona en años, meses y días. Su resultado puede ser aproximado."
      ],
      "metadata": {
        "id": "gfWpNrhYhU6d"
      }
    },
    {
      "cell_type": "code",
      "source": [
        "from datetime import datetime\n",
        "hoy = datetime.today()\n",
        "hoy_anio = hoy.year\n",
        "hoy_mes = hoy.month\n",
        "hoy_dia = hoy.day\n",
        "\n",
        "n_anio = int(input(\"Ingrese su año de nacimiento: \"))\n",
        "n_mes = int(input(\"Ingrese su mes de nacimiento: \"))\n",
        "n_dia = int(input(\"Ingrese su día de nacimiento : \"))\n",
        "\n",
        "if (hoy_anio != n_anio and hoy_mes != n_mes and hoy_dia != n_dia):\n",
        "    edad_anio = datetime.now() - datetime(n_anio, n_mes, n_dia)\n",
        "print(f\"Su factorial es:{edad_anio} \")\n",
        "print(datetime.today().strftime('%Y-%m-%d'))"
      ],
      "metadata": {
        "colab": {
          "base_uri": "https://localhost:8080/"
        },
        "id": "5gafnywRMDtC",
        "outputId": "f1923ac5-6fb4-445c-f6b9-7e8504ecb67e"
      },
      "execution_count": null,
      "outputs": [
        {
          "output_type": "stream",
          "name": "stdout",
          "text": [
            "Ingrese su año de nacimiento: 1992\n",
            "Ingrese su mes de nacimiento: 11\n",
            "Ingrese su día de nacimiento : 13\n",
            "Su factorial es:10692 days, 1:21:45.914314 \n",
            "2022-02-21\n"
          ]
        }
      ]
    },
    {
      "cell_type": "code",
      "source": [
        "from datetime import datetime\n",
        "from dateutil.relativedelta import relativedelta\n",
        "n_anio = int(input(\"Ingrese su año de nacimiento: \"))\n",
        "n_mes = int(input(\"Ingrese su mes de nacimiento: \"))\n",
        "n_dia = int(input(\"Ingrese su día de nacimiento : \"))\n",
        "edad = relativedelta(datetime.now(), datetime(n_anio, n_mes, n_dia))\n",
        "print(f\"{edad.years} años, {edad.months} meses y {edad.days} días\")"
      ],
      "metadata": {
        "colab": {
          "base_uri": "https://localhost:8080/"
        },
        "id": "ATYCNTWZssh9",
        "outputId": "45d8aa66-6eac-443b-9b85-feca5a17fd2e"
      },
      "execution_count": null,
      "outputs": [
        {
          "output_type": "stream",
          "name": "stdout",
          "text": [
            "Ingrese su año de nacimiento: 1995\n",
            "Ingrese su mes de nacimiento: 3\n",
            "Ingrese su día de nacimiento : 6\n",
            "26 años, 11 meses y 14 días\n"
          ]
        }
      ]
    },
    {
      "cell_type": "markdown",
      "source": [
        "6. Haga un programa en Python que dado un número entre 1 y 20. Y un carácter cualquiera despliegue cuatro patrones triangulares."
      ],
      "metadata": {
        "id": "6XN-kWu4hbpx"
      }
    },
    {
      "cell_type": "code",
      "source": [
        "n=int(input(\"introduce el numero de rengloes del triangulo \"))\n",
        "n=int(input(\"introduce el numero de rengloes del triangulo \"))\n",
        "for i in range (n+1):\n",
        "  print(\"*\"*i)"
      ],
      "metadata": {
        "colab": {
          "base_uri": "https://localhost:8080/"
        },
        "id": "0skyCvXZbyaI",
        "outputId": "f910e4bc-6e5c-4856-ac0a-bcb4165c5c20"
      },
      "execution_count": 5,
      "outputs": [
        {
          "output_type": "stream",
          "name": "stdout",
          "text": [
            "introduce el numero de rengloes del triangulo 15\n",
            "introduce el numero de rengloes del triangulo 12\n",
            "\n",
            "*\n",
            "**\n",
            "***\n",
            "****\n",
            "*****\n",
            "******\n",
            "*******\n",
            "********\n",
            "*********\n",
            "**********\n",
            "***********\n",
            "************\n"
          ]
        }
      ]
    },
    {
      "cell_type": "code",
      "source": [
        "#Solución\n",
        "figura = input(\"inserte simbolo: \")\n",
        "secuencia = int (input(\"inserte numero: \"))\n",
        "\n",
        "espacios= ' '*5\n",
        "\n",
        "for i in range(1, secuencia + 1):\n",
        "  valor_a= figura*i\n",
        "  valor_b= figura*(secuencia-i+1)\n",
        "  valor1 = \"{0:<{vVeces}}\".format(valor_a, vVeces=secuencia)\n",
        "  valor2 = \"{0:>{vVeces}}\".format(valor_b, vVeces=secuencia)\n",
        "  valor3 = \"{0:<{vVeces}}\".format(valor_b, vVeces=secuencia)\n",
        "  valor4 = \"{0:>{vVeces}}\".format(valor_a, vVeces=secuencia)\n",
        "  print(valor1+espacios+valor2+espacios+valor3+espacios+valor4)\n",
        "\n",
        "\n"
      ],
      "metadata": {
        "colab": {
          "base_uri": "https://localhost:8080/"
        },
        "id": "To5aV3cyhdGz",
        "outputId": "5f75f0e5-e915-4e8f-eed6-7922d63872e7"
      },
      "execution_count": 6,
      "outputs": [
        {
          "output_type": "stream",
          "name": "stdout",
          "text": [
            "inserte simbolo: *\n",
            "inserte numero: 2\n",
            "*      **     **      *\n",
            "**      *     *      **\n"
          ]
        }
      ]
    }
  ]
}